{
 "cells": [
  {
   "cell_type": "markdown",
   "metadata": {},
   "source": [
    "# Install Pandas Package"
   ]
  },
  {
   "cell_type": "code",
   "execution_count": 3,
   "metadata": {},
   "outputs": [
    {
     "name": "stdout",
     "output_type": "stream",
     "text": [
      "Requirement already satisfied: pandas in c:\\users\\salam\\anaconda3\\lib\\site-packages (1.0.1)\n",
      "Requirement already satisfied: numpy>=1.13.3 in c:\\users\\salam\\anaconda3\\lib\\site-packages (from pandas) (1.18.1)\n",
      "Requirement already satisfied: python-dateutil>=2.6.1 in c:\\users\\salam\\anaconda3\\lib\\site-packages (from pandas) (2.8.1)\n",
      "Requirement already satisfied: pytz>=2017.2 in c:\\users\\salam\\anaconda3\\lib\\site-packages (from pandas) (2019.3)\n",
      "Requirement already satisfied: six>=1.5 in c:\\users\\salam\\anaconda3\\lib\\site-packages (from python-dateutil>=2.6.1->pandas) (1.14.0)\n",
      "Note: you may need to restart the kernel to use updated packages.\n"
     ]
    }
   ],
   "source": [
    "pip install pandas "
   ]
  },
  {
   "cell_type": "markdown",
   "metadata": {},
   "source": [
    "# Import/Load Pandas Package"
   ]
  },
  {
   "cell_type": "code",
   "execution_count": 23,
   "metadata": {},
   "outputs": [],
   "source": [
    "import pandas as pd"
   ]
  },
  {
   "cell_type": "markdown",
   "metadata": {},
   "source": [
    "# Read CSV File"
   ]
  },
  {
   "cell_type": "markdown",
   "metadata": {},
   "source": [
    "# Assessment 1 and 2 "
   ]
  },
  {
   "cell_type": "code",
   "execution_count": 24,
   "metadata": {},
   "outputs": [],
   "source": [
    "df = pd.read_csv ('C:\\\\Users\\\\salam\\\\Documents\\\\employee-data.csv', header = 0, encoding = 'unicode_escape')"
   ]
  },
  {
   "cell_type": "code",
   "execution_count": 25,
   "metadata": {},
   "outputs": [
    {
     "data": {
      "text/html": [
       "<div>\n",
       "<style scoped>\n",
       "    .dataframe tbody tr th:only-of-type {\n",
       "        vertical-align: middle;\n",
       "    }\n",
       "\n",
       "    .dataframe tbody tr th {\n",
       "        vertical-align: top;\n",
       "    }\n",
       "\n",
       "    .dataframe thead th {\n",
       "        text-align: right;\n",
       "    }\n",
       "</style>\n",
       "<table border=\"1\" class=\"dataframe\">\n",
       "  <thead>\n",
       "    <tr style=\"text-align: right;\">\n",
       "      <th></th>\n",
       "      <th>Emp_ID</th>\n",
       "      <th>First_Name</th>\n",
       "      <th>Last_Name</th>\n",
       "      <th>Emp_Lvl</th>\n",
       "      <th>Emp_Dept</th>\n",
       "      <th>Emp_Salary</th>\n",
       "      <th>Emp_State</th>\n",
       "    </tr>\n",
       "  </thead>\n",
       "  <tbody>\n",
       "    <tr>\n",
       "      <th>0</th>\n",
       "      <td>500</td>\n",
       "      <td>John</td>\n",
       "      <td>Thomposon</td>\n",
       "      <td>1.0</td>\n",
       "      <td>Sales</td>\n",
       "      <td>90000</td>\n",
       "      <td>VA</td>\n",
       "    </tr>\n",
       "    <tr>\n",
       "      <th>1</th>\n",
       "      <td>501</td>\n",
       "      <td>Bill</td>\n",
       "      <td>Blank</td>\n",
       "      <td>1.0</td>\n",
       "      <td>Finance</td>\n",
       "      <td>85000</td>\n",
       "      <td>MD</td>\n",
       "    </tr>\n",
       "    <tr>\n",
       "      <th>2</th>\n",
       "      <td>502</td>\n",
       "      <td>David</td>\n",
       "      <td>Jackson</td>\n",
       "      <td>0.0</td>\n",
       "      <td>Technology</td>\n",
       "      <td>110000</td>\n",
       "      <td>VA</td>\n",
       "    </tr>\n",
       "    <tr>\n",
       "      <th>3</th>\n",
       "      <td>502</td>\n",
       "      <td>David</td>\n",
       "      <td>Jackson</td>\n",
       "      <td>0.0</td>\n",
       "      <td>Technology</td>\n",
       "      <td>110000</td>\n",
       "      <td>VA</td>\n",
       "    </tr>\n",
       "    <tr>\n",
       "      <th>4</th>\n",
       "      <td>503</td>\n",
       "      <td>Jill</td>\n",
       "      <td>Jacobs</td>\n",
       "      <td>3.0</td>\n",
       "      <td>HR</td>\n",
       "      <td>120000</td>\n",
       "      <td>CA</td>\n",
       "    </tr>\n",
       "  </tbody>\n",
       "</table>\n",
       "</div>"
      ],
      "text/plain": [
       "  Emp_ID First_Name   Last_Name  Emp_Lvl     Emp_Dept  Emp_Salary Emp_State\n",
       "0    500       John  Thomposon       1.0        Sales       90000        VA\n",
       "1    501      Bill        Blank      1.0      Finance       85000        MD\n",
       "2    502      David     Jackson      0.0  Technology       110000        VA\n",
       "3    502      David     Jackson      0.0  Technology       110000        VA\n",
       "4    503      Jill       Jacobs      3.0           HR      120000        CA"
      ]
     },
     "execution_count": 25,
     "metadata": {},
     "output_type": "execute_result"
    }
   ],
   "source": [
    "# Print the first 5 rows of data to see sample data from employee data frame\n",
    "df.head()"
   ]
  },
  {
   "cell_type": "markdown",
   "metadata": {},
   "source": [
    "#  Assessment 3  "
   ]
  },
  {
   "cell_type": "code",
   "execution_count": 26,
   "metadata": {},
   "outputs": [
    {
     "name": "stdout",
     "output_type": "stream",
     "text": [
      "  Emp_ID First_Name   Last_Name  Emp_Lvl     Emp_Dept  Emp_Salary Emp_State\n",
      "0    500       John  Thomposon       1.0        Sales       90000        VA\n",
      "1    501      Bill        Blank      1.0      Finance       85000        MD\n",
      "2    502      David     Jackson      0.0  Technology       110000        VA\n",
      "3    502      David     Jackson      0.0  Technology       110000        VA\n",
      "4    503      Jill       Jacobs      3.0           HR      120000        CA\n",
      "5    504   Michele           An      4.0       Cyber       145000        WA\n",
      "6    505     Lauren    Friedman      5.0           HR      150000        NY\n",
      "7    506       Amir        Khan      6.0  Technology       170000        NJ\n",
      "8    507      Jake         Paul      NaN  Technology       175000        Nj\n",
      "9   508%       Matt        Ryan      7.0           HR      190000        NY\n",
      "Number of Rows =  10\n",
      "Number of Columns =   7\n"
     ]
    }
   ],
   "source": [
    "# computing number of rows\n",
    "rows = len(df.axes[0])\n",
    "  \n",
    "# computing number of columns\n",
    "columns  = len(df.axes[1])\n",
    "  \n",
    "print(df)\n",
    "print(\"Number of Rows = \", rows)\n",
    "print(\"Number of Columns =  \", columns)"
   ]
  },
  {
   "cell_type": "markdown",
   "metadata": {},
   "source": [
    "# Assessment 4 "
   ]
  },
  {
   "cell_type": "code",
   "execution_count": 27,
   "metadata": {},
   "outputs": [
    {
     "data": {
      "text/html": [
       "<div>\n",
       "<style scoped>\n",
       "    .dataframe tbody tr th:only-of-type {\n",
       "        vertical-align: middle;\n",
       "    }\n",
       "\n",
       "    .dataframe tbody tr th {\n",
       "        vertical-align: top;\n",
       "    }\n",
       "\n",
       "    .dataframe thead th {\n",
       "        text-align: right;\n",
       "    }\n",
       "</style>\n",
       "<table border=\"1\" class=\"dataframe\">\n",
       "  <thead>\n",
       "    <tr style=\"text-align: right;\">\n",
       "      <th></th>\n",
       "      <th>Emp_ID</th>\n",
       "      <th>First_Name</th>\n",
       "      <th>Last_Name</th>\n",
       "      <th>Emp_Lvl</th>\n",
       "      <th>Emp_Dept</th>\n",
       "      <th>Emp_Salary</th>\n",
       "      <th>Emp_State</th>\n",
       "    </tr>\n",
       "  </thead>\n",
       "  <tbody>\n",
       "    <tr>\n",
       "      <th>0</th>\n",
       "      <td>False</td>\n",
       "      <td>False</td>\n",
       "      <td>False</td>\n",
       "      <td>False</td>\n",
       "      <td>False</td>\n",
       "      <td>False</td>\n",
       "      <td>False</td>\n",
       "    </tr>\n",
       "    <tr>\n",
       "      <th>1</th>\n",
       "      <td>False</td>\n",
       "      <td>False</td>\n",
       "      <td>False</td>\n",
       "      <td>False</td>\n",
       "      <td>False</td>\n",
       "      <td>False</td>\n",
       "      <td>False</td>\n",
       "    </tr>\n",
       "    <tr>\n",
       "      <th>2</th>\n",
       "      <td>False</td>\n",
       "      <td>False</td>\n",
       "      <td>False</td>\n",
       "      <td>False</td>\n",
       "      <td>False</td>\n",
       "      <td>False</td>\n",
       "      <td>False</td>\n",
       "    </tr>\n",
       "    <tr>\n",
       "      <th>3</th>\n",
       "      <td>False</td>\n",
       "      <td>False</td>\n",
       "      <td>False</td>\n",
       "      <td>False</td>\n",
       "      <td>False</td>\n",
       "      <td>False</td>\n",
       "      <td>False</td>\n",
       "    </tr>\n",
       "    <tr>\n",
       "      <th>4</th>\n",
       "      <td>False</td>\n",
       "      <td>False</td>\n",
       "      <td>False</td>\n",
       "      <td>False</td>\n",
       "      <td>False</td>\n",
       "      <td>False</td>\n",
       "      <td>False</td>\n",
       "    </tr>\n",
       "    <tr>\n",
       "      <th>5</th>\n",
       "      <td>False</td>\n",
       "      <td>False</td>\n",
       "      <td>False</td>\n",
       "      <td>False</td>\n",
       "      <td>False</td>\n",
       "      <td>False</td>\n",
       "      <td>False</td>\n",
       "    </tr>\n",
       "    <tr>\n",
       "      <th>6</th>\n",
       "      <td>False</td>\n",
       "      <td>False</td>\n",
       "      <td>False</td>\n",
       "      <td>False</td>\n",
       "      <td>False</td>\n",
       "      <td>False</td>\n",
       "      <td>False</td>\n",
       "    </tr>\n",
       "    <tr>\n",
       "      <th>7</th>\n",
       "      <td>False</td>\n",
       "      <td>False</td>\n",
       "      <td>False</td>\n",
       "      <td>False</td>\n",
       "      <td>False</td>\n",
       "      <td>False</td>\n",
       "      <td>False</td>\n",
       "    </tr>\n",
       "    <tr>\n",
       "      <th>8</th>\n",
       "      <td>False</td>\n",
       "      <td>False</td>\n",
       "      <td>False</td>\n",
       "      <td>True</td>\n",
       "      <td>False</td>\n",
       "      <td>False</td>\n",
       "      <td>False</td>\n",
       "    </tr>\n",
       "    <tr>\n",
       "      <th>9</th>\n",
       "      <td>False</td>\n",
       "      <td>False</td>\n",
       "      <td>False</td>\n",
       "      <td>False</td>\n",
       "      <td>False</td>\n",
       "      <td>False</td>\n",
       "      <td>False</td>\n",
       "    </tr>\n",
       "  </tbody>\n",
       "</table>\n",
       "</div>"
      ],
      "text/plain": [
       "   Emp_ID  First_Name  Last_Name  Emp_Lvl  Emp_Dept  Emp_Salary  Emp_State\n",
       "0   False       False      False    False     False       False      False\n",
       "1   False       False      False    False     False       False      False\n",
       "2   False       False      False    False     False       False      False\n",
       "3   False       False      False    False     False       False      False\n",
       "4   False       False      False    False     False       False      False\n",
       "5   False       False      False    False     False       False      False\n",
       "6   False       False      False    False     False       False      False\n",
       "7   False       False      False    False     False       False      False\n",
       "8   False       False      False     True     False       False      False\n",
       "9   False       False      False    False     False       False      False"
      ]
     },
     "execution_count": 27,
     "metadata": {},
     "output_type": "execute_result"
    }
   ],
   "source": [
    "df.isnull()"
   ]
  },
  {
   "cell_type": "markdown",
   "metadata": {},
   "source": [
    "# Assessment 5"
   ]
  },
  {
   "cell_type": "code",
   "execution_count": 28,
   "metadata": {},
   "outputs": [
    {
     "data": {
      "text/plain": [
       "0    False\n",
       "1    False\n",
       "2    False\n",
       "3     True\n",
       "4    False\n",
       "5    False\n",
       "6    False\n",
       "7    False\n",
       "8    False\n",
       "9    False\n",
       "dtype: bool"
      ]
     },
     "execution_count": 28,
     "metadata": {},
     "output_type": "execute_result"
    }
   ],
   "source": [
    "df.duplicated()"
   ]
  },
  {
   "cell_type": "code",
   "execution_count": 29,
   "metadata": {},
   "outputs": [
    {
     "data": {
      "text/html": [
       "<div>\n",
       "<style scoped>\n",
       "    .dataframe tbody tr th:only-of-type {\n",
       "        vertical-align: middle;\n",
       "    }\n",
       "\n",
       "    .dataframe tbody tr th {\n",
       "        vertical-align: top;\n",
       "    }\n",
       "\n",
       "    .dataframe thead th {\n",
       "        text-align: right;\n",
       "    }\n",
       "</style>\n",
       "<table border=\"1\" class=\"dataframe\">\n",
       "  <thead>\n",
       "    <tr style=\"text-align: right;\">\n",
       "      <th></th>\n",
       "      <th>Emp_ID</th>\n",
       "      <th>First_Name</th>\n",
       "      <th>Last_Name</th>\n",
       "      <th>Emp_Lvl</th>\n",
       "      <th>Emp_Dept</th>\n",
       "      <th>Emp_Salary</th>\n",
       "      <th>Emp_State</th>\n",
       "    </tr>\n",
       "  </thead>\n",
       "  <tbody>\n",
       "    <tr>\n",
       "      <th>0</th>\n",
       "      <td>500</td>\n",
       "      <td>John</td>\n",
       "      <td>Thomposon</td>\n",
       "      <td>1.0</td>\n",
       "      <td>Sales</td>\n",
       "      <td>90000</td>\n",
       "      <td>VA</td>\n",
       "    </tr>\n",
       "    <tr>\n",
       "      <th>1</th>\n",
       "      <td>501</td>\n",
       "      <td>Bill</td>\n",
       "      <td>Blank</td>\n",
       "      <td>1.0</td>\n",
       "      <td>Finance</td>\n",
       "      <td>85000</td>\n",
       "      <td>MD</td>\n",
       "    </tr>\n",
       "    <tr>\n",
       "      <th>2</th>\n",
       "      <td>502</td>\n",
       "      <td>David</td>\n",
       "      <td>Jackson</td>\n",
       "      <td>0.0</td>\n",
       "      <td>Technology</td>\n",
       "      <td>110000</td>\n",
       "      <td>VA</td>\n",
       "    </tr>\n",
       "    <tr>\n",
       "      <th>3</th>\n",
       "      <td>502</td>\n",
       "      <td>David</td>\n",
       "      <td>Jackson</td>\n",
       "      <td>0.0</td>\n",
       "      <td>Technology</td>\n",
       "      <td>110000</td>\n",
       "      <td>VA</td>\n",
       "    </tr>\n",
       "    <tr>\n",
       "      <th>4</th>\n",
       "      <td>503</td>\n",
       "      <td>Jill</td>\n",
       "      <td>Jacobs</td>\n",
       "      <td>3.0</td>\n",
       "      <td>HR</td>\n",
       "      <td>120000</td>\n",
       "      <td>CA</td>\n",
       "    </tr>\n",
       "  </tbody>\n",
       "</table>\n",
       "</div>"
      ],
      "text/plain": [
       "  Emp_ID First_Name   Last_Name  Emp_Lvl     Emp_Dept  Emp_Salary Emp_State\n",
       "0    500       John  Thomposon       1.0        Sales       90000        VA\n",
       "1    501      Bill        Blank      1.0      Finance       85000        MD\n",
       "2    502      David     Jackson      0.0  Technology       110000        VA\n",
       "3    502      David     Jackson      0.0  Technology       110000        VA\n",
       "4    503      Jill       Jacobs      3.0           HR      120000        CA"
      ]
     },
     "execution_count": 29,
     "metadata": {},
     "output_type": "execute_result"
    }
   ],
   "source": [
    "df.head()"
   ]
  },
  {
   "cell_type": "code",
   "execution_count": 30,
   "metadata": {},
   "outputs": [
    {
     "data": {
      "text/html": [
       "<div>\n",
       "<style scoped>\n",
       "    .dataframe tbody tr th:only-of-type {\n",
       "        vertical-align: middle;\n",
       "    }\n",
       "\n",
       "    .dataframe tbody tr th {\n",
       "        vertical-align: top;\n",
       "    }\n",
       "\n",
       "    .dataframe thead th {\n",
       "        text-align: right;\n",
       "    }\n",
       "</style>\n",
       "<table border=\"1\" class=\"dataframe\">\n",
       "  <thead>\n",
       "    <tr style=\"text-align: right;\">\n",
       "      <th></th>\n",
       "      <th>Emp_ID</th>\n",
       "      <th>First_Name</th>\n",
       "      <th>Last_Name</th>\n",
       "      <th>Emp_Lvl</th>\n",
       "      <th>Emp_Dept</th>\n",
       "      <th>Emp_Salary</th>\n",
       "      <th>Emp_State</th>\n",
       "    </tr>\n",
       "  </thead>\n",
       "  <tbody>\n",
       "    <tr>\n",
       "      <th>0</th>\n",
       "      <td>500</td>\n",
       "      <td>John</td>\n",
       "      <td>Thomposon</td>\n",
       "      <td>1.0</td>\n",
       "      <td>Sales</td>\n",
       "      <td>90000</td>\n",
       "      <td>VA</td>\n",
       "    </tr>\n",
       "    <tr>\n",
       "      <th>1</th>\n",
       "      <td>501</td>\n",
       "      <td>Bill</td>\n",
       "      <td>Blank</td>\n",
       "      <td>1.0</td>\n",
       "      <td>Finance</td>\n",
       "      <td>85000</td>\n",
       "      <td>MD</td>\n",
       "    </tr>\n",
       "    <tr>\n",
       "      <th>2</th>\n",
       "      <td>502</td>\n",
       "      <td>David</td>\n",
       "      <td>Jackson</td>\n",
       "      <td>0.0</td>\n",
       "      <td>Technology</td>\n",
       "      <td>110000</td>\n",
       "      <td>VA</td>\n",
       "    </tr>\n",
       "    <tr>\n",
       "      <th>4</th>\n",
       "      <td>503</td>\n",
       "      <td>Jill</td>\n",
       "      <td>Jacobs</td>\n",
       "      <td>3.0</td>\n",
       "      <td>HR</td>\n",
       "      <td>120000</td>\n",
       "      <td>CA</td>\n",
       "    </tr>\n",
       "    <tr>\n",
       "      <th>5</th>\n",
       "      <td>504</td>\n",
       "      <td>Michele</td>\n",
       "      <td>An</td>\n",
       "      <td>4.0</td>\n",
       "      <td>Cyber</td>\n",
       "      <td>145000</td>\n",
       "      <td>WA</td>\n",
       "    </tr>\n",
       "    <tr>\n",
       "      <th>6</th>\n",
       "      <td>505</td>\n",
       "      <td>Lauren</td>\n",
       "      <td>Friedman</td>\n",
       "      <td>5.0</td>\n",
       "      <td>HR</td>\n",
       "      <td>150000</td>\n",
       "      <td>NY</td>\n",
       "    </tr>\n",
       "    <tr>\n",
       "      <th>7</th>\n",
       "      <td>506</td>\n",
       "      <td>Amir</td>\n",
       "      <td>Khan</td>\n",
       "      <td>6.0</td>\n",
       "      <td>Technology</td>\n",
       "      <td>170000</td>\n",
       "      <td>NJ</td>\n",
       "    </tr>\n",
       "    <tr>\n",
       "      <th>8</th>\n",
       "      <td>507</td>\n",
       "      <td>Jake</td>\n",
       "      <td>Paul</td>\n",
       "      <td>NaN</td>\n",
       "      <td>Technology</td>\n",
       "      <td>175000</td>\n",
       "      <td>Nj</td>\n",
       "    </tr>\n",
       "    <tr>\n",
       "      <th>9</th>\n",
       "      <td>508%</td>\n",
       "      <td>Matt</td>\n",
       "      <td>Ryan</td>\n",
       "      <td>7.0</td>\n",
       "      <td>HR</td>\n",
       "      <td>190000</td>\n",
       "      <td>NY</td>\n",
       "    </tr>\n",
       "  </tbody>\n",
       "</table>\n",
       "</div>"
      ],
      "text/plain": [
       "  Emp_ID First_Name   Last_Name  Emp_Lvl     Emp_Dept  Emp_Salary Emp_State\n",
       "0    500       John  Thomposon       1.0        Sales       90000        VA\n",
       "1    501      Bill        Blank      1.0      Finance       85000        MD\n",
       "2    502      David     Jackson      0.0  Technology       110000        VA\n",
       "4    503      Jill       Jacobs      3.0           HR      120000        CA\n",
       "5    504   Michele           An      4.0       Cyber       145000        WA\n",
       "6    505     Lauren    Friedman      5.0           HR      150000        NY\n",
       "7    506       Amir        Khan      6.0  Technology       170000        NJ\n",
       "8    507      Jake         Paul      NaN  Technology       175000        Nj\n",
       "9   508%       Matt        Ryan      7.0           HR      190000        NY"
      ]
     },
     "execution_count": 30,
     "metadata": {},
     "output_type": "execute_result"
    }
   ],
   "source": [
    "df.drop_duplicates()"
   ]
  },
  {
   "cell_type": "markdown",
   "metadata": {},
   "source": [
    "# Assessment 6 "
   ]
  },
  {
   "cell_type": "code",
   "execution_count": 31,
   "metadata": {},
   "outputs": [
    {
     "data": {
      "text/plain": [
       "Emp_ID         object\n",
       "First_Name     object\n",
       "Last_Name      object\n",
       "Emp_Lvl       float64\n",
       "Emp_Dept       object\n",
       "Emp_Salary      int64\n",
       "Emp_State      object\n",
       "dtype: object"
      ]
     },
     "execution_count": 31,
     "metadata": {},
     "output_type": "execute_result"
    }
   ],
   "source": [
    "df.dtypes"
   ]
  },
  {
   "cell_type": "code",
   "execution_count": 32,
   "metadata": {},
   "outputs": [
    {
     "data": {
      "text/plain": [
       "0     90000.0\n",
       "1     85000.0\n",
       "2    110000.0\n",
       "3    110000.0\n",
       "4    120000.0\n",
       "5    145000.0\n",
       "6    150000.0\n",
       "7    170000.0\n",
       "8    175000.0\n",
       "9    190000.0\n",
       "Name: Emp_Salary, dtype: float64"
      ]
     },
     "execution_count": 32,
     "metadata": {},
     "output_type": "execute_result"
    }
   ],
   "source": [
    "# Converting Emp_Salary data type from int to float \n",
    "\n",
    "df[\"Emp_Salary\"].astype(float)"
   ]
  }
 ],
 "metadata": {
  "kernelspec": {
   "display_name": "Python 3",
   "language": "python",
   "name": "python3"
  },
  "language_info": {
   "codemirror_mode": {
    "name": "ipython",
    "version": 3
   },
   "file_extension": ".py",
   "mimetype": "text/x-python",
   "name": "python",
   "nbconvert_exporter": "python",
   "pygments_lexer": "ipython3",
   "version": "3.7.6"
  }
 },
 "nbformat": 4,
 "nbformat_minor": 4
}
